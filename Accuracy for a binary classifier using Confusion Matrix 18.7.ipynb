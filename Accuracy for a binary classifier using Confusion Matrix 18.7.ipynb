{
 "cells": [
  {
   "cell_type": "code",
   "execution_count": 93,
   "metadata": {},
   "outputs": [],
   "source": [
    "%matplotlib inline\n",
    "import numpy as np\n",
    "import pandas as pd\n",
    "import scipy\n",
    "import sklearn\n",
    "import matplotlib.pyplot as plt\n",
    "import seaborn as sns"
   ]
  },
  {
   "cell_type": "code",
   "execution_count": 94,
   "metadata": {},
   "outputs": [],
   "source": [
    "# Grab and process the raw data.\n",
    "data_path = (\"https://raw.githubusercontent.com/Thinkful-Ed/data-201-resources/\"\n",
    "             \"master/sms_spam_collection/SMSSpamCollection\"\n",
    "            )\n",
    "sms_raw = pd.read_csv(data_path, delimiter= '\\t', header=None)\n",
    "sms_raw.columns = ['spam', 'message']\n",
    "\n",
    "# Enumerate our spammy keywords.\n",
    "keywords = ['click', 'offer', 'winner', 'buy', 'free', 'cash', 'urgent']\n",
    "\n",
    "for key in keywords:\n",
    "    sms_raw[str(key)] = sms_raw.message.str.contains(\n",
    "        ' ' + str(key) + ' ',\n",
    "        case=False\n",
    ")\n",
    "\n",
    "sms_raw['allcaps'] = sms_raw.message.str.isupper()\n",
    "sms_raw['spam'] = (sms_raw['spam'] == 'spam')\n",
    "data = sms_raw[keywords + ['allcaps']]\n",
    "target = sms_raw['spam']\n",
    "\n",
    "from sklearn.naive_bayes import BernoulliNB\n",
    "bnb = BernoulliNB()\n",
    "bnb.fit(data, target)\n",
    "y_pred = bnb.predict(data)"
   ]
  },
  {
   "cell_type": "code",
   "execution_count": 95,
   "metadata": {},
   "outputs": [],
   "source": [
    "True_Positive = ((y_pred == 1) & (target == 1)).sum()\n",
    "False_Negative = ((y_pred == 0) & (target == 1)).sum()\n",
    "True_Negative = ((y_pred == 0) & (target == 0)).sum()\n",
    "False_Positive = ((y_pred == 1) & (target == 0)).sum()"
   ]
  },
  {
   "cell_type": "code",
   "execution_count": 96,
   "metadata": {},
   "outputs": [
    {
     "name": "stdout",
     "output_type": "stream",
     "text": [
      "True positives are :  198\n",
      "False negatives are :  549\n",
      "True negatives are :  4770\n",
      "False positives are :  55\n"
     ]
    }
   ],
   "source": [
    "print(\"True positives are :  {}\".format(True_Positive))\n",
    "print(\"False negatives are :  {}\".format(False_Negative))\n",
    "print(\"True negatives are :  {}\".format(True_Negative))\n",
    "print(\"False positives are :  {}\".format(False_Positive))"
   ]
  },
  {
   "cell_type": "code",
   "execution_count": 97,
   "metadata": {},
   "outputs": [
    {
     "name": "stdout",
     "output_type": "stream",
     "text": [
      "[[4770   55]\n",
      " [ 549  198]]\n"
     ]
    }
   ],
   "source": [
    "confusion_matrix = np.array([[True_Negative,False_Positive],[False_Negative,True_Positive]])\n",
    "print(confusion_matrix)"
   ]
  },
  {
   "cell_type": "code",
   "execution_count": 98,
   "metadata": {},
   "outputs": [],
   "source": [
    "Sensitivity = round(198/(198 + 549),2)\n",
    "Recall = Sensitivity\n",
    "Specificity = round(4770/(4770 + 55),2)\n",
    "Precision = round(198/(198 + 55),2)\n",
    "F1_Score = 2*(Precision*Recall)/(Precision+Recall)"
   ]
  },
  {
   "cell_type": "code",
   "execution_count": 100,
   "metadata": {},
   "outputs": [
    {
     "name": "stdout",
     "output_type": "stream",
     "text": [
      "Sensitivity or True Positive Rate or Recall is :   0.27\n",
      "Specificity or True Negative Rate is :             0.99\n",
      "Precision is :                                     0.78\n",
      "F1_Score is :                                      0.40114285714285713\n"
     ]
    }
   ],
   "source": [
    "print(\"Sensitivity or True Positive Rate or Recall is :   {}\".format(Recall))\n",
    "print(\"Specificity or True Negative Rate is :             {}\".format(Specificity))\n",
    "print(\"Precision is :                                     {}\".format(Precision))\n",
    "print(\"F1_Score is :                                      {}\".format(F1_Score))"
   ]
  },
  {
   "cell_type": "code",
   "execution_count": 102,
   "metadata": {},
   "outputs": [
    {
     "name": "stdout",
     "output_type": "stream",
     "text": [
      "[[4770   55]\n",
      " [ 549  198]]\n"
     ]
    }
   ],
   "source": [
    "# Use sklearn's confusion_matrix\n",
    "from sklearn.metrics import confusion_matrix\n",
    "con_mat = confusion_matrix(target, y_pred)\n",
    "print(con_mat)"
   ]
  },
  {
   "cell_type": "code",
   "execution_count": null,
   "metadata": {},
   "outputs": [],
   "source": []
  }
 ],
 "metadata": {
  "kernelspec": {
   "display_name": "Python 3",
   "language": "python",
   "name": "python3"
  },
  "language_info": {
   "codemirror_mode": {
    "name": "ipython",
    "version": 3
   },
   "file_extension": ".py",
   "mimetype": "text/x-python",
   "name": "python",
   "nbconvert_exporter": "python",
   "pygments_lexer": "ipython3",
   "version": "3.7.3"
  }
 },
 "nbformat": 4,
 "nbformat_minor": 2
}

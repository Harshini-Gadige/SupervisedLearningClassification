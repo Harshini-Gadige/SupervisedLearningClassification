{
 "cells": [
  {
   "cell_type": "code",
   "execution_count": 56,
   "metadata": {},
   "outputs": [],
   "source": [
    "import pandas as pd\n",
    "import sklearn\n",
    "import numpy as np\n",
    "import matplotlib.pyplot as plt"
   ]
  },
  {
   "cell_type": "code",
   "execution_count": 57,
   "metadata": {},
   "outputs": [],
   "source": [
    "# Grab and process the raw data.\n",
    "data_path = (\"https://raw.githubusercontent.com/Thinkful-Ed/data-201-resources/\"\n",
    "             \"master/sms_spam_collection/SMSSpamCollection\"\n",
    "            )\n",
    "sms_raw = pd.read_csv(data_path, delimiter= '\\t', header=None)\n",
    "sms_raw.columns = ['spam', 'message']\n",
    "\n",
    "# Enumerate our spammy keywords.\n",
    "keywords = ['click', 'offer', 'winner', 'buy', 'free', 'cash', 'urgent']\n",
    "\n",
    "for key in keywords:\n",
    "    sms_raw[str(key)] = sms_raw.message.str.contains(\n",
    "        ' ' + str(key) + ' ',\n",
    "        case=False\n",
    ")\n",
    "\n",
    "sms_raw['allcaps'] = sms_raw.message.str.isupper()\n",
    "sms_raw['spam'] = (sms_raw['spam'] == 'spam')\n",
    "data = sms_raw[keywords + ['allcaps']]\n",
    "target = sms_raw['spam']\n",
    "\n",
    "from sklearn.naive_bayes import BernoulliNB\n",
    "bnb = BernoulliNB()\n",
    "y_pred = bnb.fit(data, target).predict(data)"
   ]
  },
  {
   "cell_type": "code",
   "execution_count": 58,
   "metadata": {},
   "outputs": [],
   "source": [
    "from sklearn.model_selection import train_test_split\n",
    "from sklearn.metrics import confusion_matrix\n",
    "from sklearn.naive_bayes import BernoulliNB\n",
    "\n",
    "data1,data2,target1,target2 = train_test_split(data, target, test_size=0.5, random_state=20)\n",
    "\n",
    "data11,data12,target11,target12 = train_test_split(data1, target1, test_size=0.5, random_state=20)\n",
    "data21,data22,target21,target22 = train_test_split(data2, target2, test_size=0.5, random_state=20)\n"
   ]
  },
  {
   "cell_type": "code",
   "execution_count": 63,
   "metadata": {},
   "outputs": [],
   "source": [
    "bnb = BernoulliNB()\n",
    "\n",
    "bnb.fit(data11,target11)\n",
    "y_pred = bnb.predict(data12)\n",
    "cm12 = confusion_matrix(target12, y_pred)\n",
    "\n",
    "bnb.fit(data21,target21)\n",
    "y_pred = bnb.predict(data22)\n",
    "cm22 = confusion_matrix(target22, y_pred)\n",
    "\n",
    "bnb.fit(data12,target12)\n",
    "y_pred = bnb.predict(data11)\n",
    "cm11 = confusion_matrix(target11, y_pred)\n",
    "\n",
    "bnb.fit(data22,target22)\n",
    "y_pred = bnb.predict(data21)\n",
    "cm21 = confusion_matrix(target21, y_pred)"
   ]
  },
  {
   "cell_type": "code",
   "execution_count": 77,
   "metadata": {},
   "outputs": [
    {
     "name": "stdout",
     "output_type": "stream",
     "text": [
      "cm12\n",
      " [[1182   14]\n",
      " [ 147   50]]\n",
      "\n",
      "\n",
      "cm22\n",
      " [[1212   12]\n",
      " [ 128   41]]\n",
      "\n",
      "\n",
      "cm11\n",
      " [[1187   17]\n",
      " [ 142   47]]\n",
      "\n",
      "\n",
      "cm21\n",
      " [[1190   11]\n",
      " [ 138   54]]\n",
      "\n",
      "\n"
     ]
    }
   ],
   "source": [
    "print(\"cm12\\n\",cm12)\n",
    "print(\"\\n\")\n",
    "print(\"cm22\\n\",cm22)\n",
    "print(\"\\n\")\n",
    "print(\"cm11\\n\",cm11)\n",
    "print(\"\\n\")\n",
    "print(\"cm21\\n\",cm21)\n",
    "print(\"\\n\")"
   ]
  }
 ],
 "metadata": {
  "kernelspec": {
   "display_name": "Python 3",
   "language": "python",
   "name": "python3"
  },
  "language_info": {
   "codemirror_mode": {
    "name": "ipython",
    "version": 3
   },
   "file_extension": ".py",
   "mimetype": "text/x-python",
   "name": "python",
   "nbconvert_exporter": "python",
   "pygments_lexer": "ipython3",
   "version": "3.7.3"
  }
 },
 "nbformat": 4,
 "nbformat_minor": 2
}
